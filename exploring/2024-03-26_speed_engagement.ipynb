{
 "cells": [
  {
   "cell_type": "code",
   "execution_count": 1,
   "metadata": {},
   "outputs": [
    {
     "name": "stderr",
     "output_type": "stream",
     "text": [
      "/var/folders/07/231x2gks4j5fvh_h32tcwgfm0000gn/T/ipykernel_65749/3016566715.py:5: DeprecationWarning: \n",
      "Pyarrow will become a required dependency of pandas in the next major release of pandas (pandas 3.0),\n",
      "(to allow more performant data types, such as the Arrow string type, and better interoperability with other libraries)\n",
      "but was not found to be installed on your system.\n",
      "If this would cause problems for you,\n",
      "please provide us feedback at https://github.com/pandas-dev/pandas/issues/54466\n",
      "        \n",
      "  import pandas as pd\n"
     ]
    }
   ],
   "source": [
    "from pathlib import Path\n",
    "import numpy as np\n",
    "import matplotlib.pyplot as plt\n",
    "import pickle\n",
    "import pandas as pd"
   ]
  },
  {
   "cell_type": "code",
   "execution_count": 13,
   "metadata": {},
   "outputs": [],
   "source": [
    "speed_pickle_map = {\n",
    "    1500: [\n",
    "        '/Users/yefan/Desktop/rot2/rot2-project/data/2024-03-14_overlay_analysis/2024-03-12_SC23_trial1.pkl',\n",
    "        '/Users/yefan/Desktop/rot2/rot2-project/data/2024-03-14_overlay_analysis/2024-03-12_SC23_trial2.pkl',\n",
    "    ],\n",
    "    2000: [\n",
    "        '/Users/yefan/Desktop/rot2/rot2-project/data/2024-03-14_fast_speed_analysis/2024-03-14_SC22_trial1.pkl',\n",
    "        '/Users/yefan/Desktop/rot2/rot2-project/data/2024-03-14_fast_speed_analysis/2024-03-14_SC22_trial2.pkl',\n",
    "    ],\n",
    "    2500: [\n",
    "        '/Users/yefan/Desktop/rot2/rot2-project/data/2024-03-14_fast_speed_analysis/2024-03-14_SC22_trial3.pkl',\n",
    "        '/Users/yefan/Desktop/rot2/rot2-project/data/2024-03-14_fast_speed_analysis/2024-03-14_SC22_trial4.pkl',\n",
    "    ],\n",
    "    3000: [\n",
    "        '/Users/yefan/Desktop/rot2/rot2-project/data/2024-03-14_fast_speed_analysis/2024-03-14_SC22_trial5.pkl',\n",
    "        '/Users/yefan/Desktop/rot2/rot2-project/data/2024-03-14_fast_speed_analysis/2024-03-14_SC22_trial6.pkl',\n",
    "        '/Users/yefan/Desktop/rot2/rot2-project/data/2024-03-14_fast_speed_analysis/2024-03-14_SC22_trial7.pkl',\n",
    "        '/Users/yefan/Desktop/rot2/rot2-project/data/2024-03-19_trajectory_analysis/03-17_SC22_trial1.pkl',\n",
    "        '/Users/yefan/Desktop/rot2/rot2-project/data/2024-03-19_trajectory_analysis/03-17_SC22_trial2.pkl',\n",
    "        '/Users/yefan/Desktop/rot2/rot2-project/data/2024-03-19_trajectory_analysis/03-17_SC22_trial3.pkl',\n",
    "        '/Users/yefan/Desktop/rot2/rot2-project/data/2024-03-19_trajectory_analysis/03-17_SC22_trial6.pkl',\n",
    "    ],\n",
    "    3500: [\n",
    "        '/Users/yefan/Desktop/rot2/rot2-project/data/2024-03-19_trajectory_analysis/03-17_SC22_trial4.pkl',\n",
    "        '/Users/yefan/Desktop/rot2/rot2-project/data/2024-03-19_trajectory_analysis/03-17_SC22_trial5.pkl',\n",
    "    ],\n",
    "}"
   ]
  },
  {
   "cell_type": "code",
   "execution_count": 11,
   "metadata": {},
   "outputs": [],
   "source": [
    "def get_percentage_near(file, threshold):\n",
    "    data = pd.read_pickle(file)\n",
    "    near = data[data['distance'].to_numpy().astype(float) < threshold]\n",
    "    return len(near) / len(data)"
   ]
  },
  {
   "cell_type": "code",
   "execution_count": 15,
   "metadata": {},
   "outputs": [
    {
     "data": {
      "text/plain": [
       "0.13026819923371646"
      ]
     },
     "execution_count": 15,
     "metadata": {},
     "output_type": "execute_result"
    }
   ],
   "source": [
    "get_percentage_near(speed_pickle_map[1500][0], 100)"
   ]
  },
  {
   "cell_type": "code",
   "execution_count": 17,
   "metadata": {},
   "outputs": [
    {
     "name": "stdout",
     "output_type": "stream",
     "text": [
      "1500 0.13026819923371646\n",
      "1500 0.0893259029042975\n",
      "2000 0.23178137651821862\n",
      "2000 0.3961848862802641\n",
      "2500 0.053484243231247224\n",
      "2500 0.05432098765432099\n",
      "3000 0.27906976744186046\n",
      "3000 0.18020400453343408\n",
      "3000 0.11130846654825341\n",
      "3000 0.03356481481481482\n",
      "3000 0.12622720897615708\n",
      "3000 0.07194662024949232\n",
      "3000 0.03538480980664729\n",
      "3500 0.11379310344827587\n",
      "3500 0.014109718858586922\n"
     ]
    }
   ],
   "source": [
    "x_data = [] # speed\n",
    "y_data = [] # percentage\n",
    "for speed, path_list in speed_pickle_map.items():\n",
    "    for path in path_list:\n",
    "        print(f'{speed} {get_percentage_near(path, 100)}')\n",
    "        x_data.append(speed)\n",
    "        y_data.append(get_percentage_near(path, 100))"
   ]
  },
  {
   "cell_type": "code",
   "execution_count": 18,
   "metadata": {},
   "outputs": [
    {
     "data": {
      "text/plain": [
       "[<matplotlib.lines.Line2D at 0x12db47f70>]"
      ]
     },
     "execution_count": 18,
     "metadata": {},
     "output_type": "execute_result"
    },
    {
     "data": {
      "image/png": "[encoded data removed]",
      "text/plain": [
       "<Figure size 640x480 with 1 Axes>"
      ]
     },
     "metadata": {},
     "output_type": "display_data"
    }
   ],
   "source": [
    "plt.plot(x_data, y_data, 'o')"
   ]
  }
 ],
 "metadata": {
  "kernelspec": {
   "display_name": "rot2",
   "language": "python",
   "name": "python3"
  },
  "language_info": {
   "codemirror_mode": {
    "name": "ipython",
    "version": 3
   },
   "file_extension": ".py",
   "mimetype": "text/x-python",
   "name": "python",
   "nbconvert_exporter": "python",
   "pygments_lexer": "ipython3",
   "version": "3.9.18"
  }
 },
 "nbformat": 4,
 "nbformat_minor": 2
}
